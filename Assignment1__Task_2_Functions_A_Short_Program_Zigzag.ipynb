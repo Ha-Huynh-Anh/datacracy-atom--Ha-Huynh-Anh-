{
  "nbformat": 4,
  "nbformat_minor": 0,
  "metadata": {
    "colab": {
      "name": "Assignment1#_Task 2_Functions - A Short Program: Zigzag.ipynb",
      "provenance": [],
      "collapsed_sections": [],
      "authorship_tag": "ABX9TyPCOlSlgOqlwlDAOdvsLWjb",
      "include_colab_link": true
    },
    "kernelspec": {
      "name": "python3",
      "display_name": "Python 3"
    },
    "language_info": {
      "name": "python"
    }
  },
  "cells": [
    {
      "cell_type": "markdown",
      "metadata": {
        "id": "view-in-github",
        "colab_type": "text"
      },
      "source": [
        "<a href=\"https://colab.research.google.com/github/Ha-Huynh-Anh/datacracy-atom-Ha-Huynh-Anh-/blob/main/Assignment1__Task_2_Functions_A_Short_Program_Zigzag.ipynb\" target=\"_parent\"><img src=\"https://colab.research.google.com/assets/colab-badge.svg\" alt=\"Open In Colab\"/></a>"
      ]
    },
    {
      "cell_type": "code",
      "metadata": {
        "id": "6DW3AV--XiB7"
      },
      "source": [
        "import time, sys\n",
        "indent = 0 # How many spaces to indent.\n",
        "indentIncreasing = True # Whether the indentation is increasing or not.\n",
        "\n",
        "try:\n",
        "    while True: # The main program loop.\n",
        "        print(' ' * indent, end='')\n",
        "        print('********')\n",
        "        time.sleep(0.1) # Pause for 1/10 of a second.\n",
        "\n",
        "        if indentIncreasing:\n",
        "            # Increase the number of spaces:\n",
        "            indent = indent + 1\n",
        "            if indent == 20:\n",
        "                # Change direction:\n",
        "                indentIncreasing = False\n",
        "\n",
        "        else:\n",
        "            # Decrease the number of spaces:\n",
        "            indent = indent - 1\n",
        "            if indent == 0:\n",
        "                # Change direction:\n",
        "                indentIncreasing = True\n",
        "except KeyboardInterrupt:\n",
        "    sys.exit()"
      ],
      "execution_count": null,
      "outputs": []
    }
  ]
}
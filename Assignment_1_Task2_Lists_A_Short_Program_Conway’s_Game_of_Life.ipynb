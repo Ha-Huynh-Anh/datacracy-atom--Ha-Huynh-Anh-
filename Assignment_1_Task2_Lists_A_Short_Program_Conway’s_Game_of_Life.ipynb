{
  "nbformat": 4,
  "nbformat_minor": 0,
  "metadata": {
    "colab": {
      "name": "Assignment#1_Task2_Lists - A Short Program: Conway’s Game of Life.ipynb",
      "provenance": [],
      "collapsed_sections": [],
      "authorship_tag": "ABX9TyNQe085f7F5ZzGSSfj3wU0r",
      "include_colab_link": true
    },
    "kernelspec": {
      "name": "python3",
      "display_name": "Python 3"
    },
    "language_info": {
      "name": "python"
    }
  },
  "cells": [
    {
      "cell_type": "markdown",
      "metadata": {
        "id": "view-in-github",
        "colab_type": "text"
      },
      "source": [
        "<a href=\"https://colab.research.google.com/github/Ha-Huynh-Anh/datacracy-atom-Ha-Huynh-Anh-/blob/main/Assignment_1_Task2_Lists_A_Short_Program_Conway%E2%80%99s_Game_of_Life.ipynb\" target=\"_parent\"><img src=\"https://colab.research.google.com/assets/colab-badge.svg\" alt=\"Open In Colab\"/></a>"
      ]
    },
    {
      "cell_type": "code",
      "metadata": {
        "id": "lvEW2TMeZRm3"
      },
      "source": [
        "# Conway's Game of Life\n",
        "import random, time, copy\n",
        "WIDTH = 60\n",
        "HEIGHT = 20\n",
        "\n",
        "# Create a list of list for the cells:\n",
        "nextCells = []\n",
        "for x in range(WIDTH):\n",
        "    column = [] # Create a new column.\n",
        "    for y in range(HEIGHT):\n",
        "        if random.randint(0, 1) == 0:\n",
        "            column.append('#') # Add a living cell.\n",
        "        else:\n",
        "            column.append(' ') # Add a dead cell.\n",
        "    nextCells.append(column) # nextCells is a list of column lists.\n",
        "\n",
        "while True: # Main program loop.\n",
        "    print('\\n\\n\\n\\n\\n') # Separate each step with newlines.\n",
        "    currentCells = copy.deepcopy(nextCells)\n",
        "\n",
        "    # Print currentCells on the screen:\n",
        "    for y in range(HEIGHT):\n",
        "        for x in range(WIDTH):\n",
        "            print(currentCells[x][y], end='') # Print the # or space.\n",
        "        print() # Print a newline at the end of the row.\n",
        "\n",
        "    # Calculate the next step's cells based on current step's cells:\n",
        "    for x in range(WIDTH):\n",
        "        for y in range(HEIGHT):\n",
        "            # Get neighboring coordinates:\n",
        "            # `% WIDTH` ensures leftCoord is always between 0 and WIDTH - 1\n",
        "            leftCoord  = (x - 1) % WIDTH\n",
        "            rightCoord = (x + 1) % WIDTH\n",
        "            aboveCoord = (y - 1) % HEIGHT\n",
        "            belowCoord = (y + 1) % HEIGHT\n",
        "\n",
        "            # Count number of living neighbors:\n",
        "            numNeighbors = 0\n",
        "            if currentCells[leftCoord][aboveCoord] == '#':\n",
        "                numNeighbors += 1 # Top-left neighbor is alive.\n",
        "            if currentCells[x][aboveCoord] == '#':\n",
        "                numNeighbors += 1 # Top neighbor is alive.\n",
        "            if currentCells[rightCoord][aboveCoord] == '#':\n",
        "                numNeighbors += 1 # Top-right neighbor is alive.\n",
        "            if currentCells[leftCoord][y] == '#':\n",
        "                numNeighbors += 1 # Left neighbor is alive.\n",
        "            if currentCells[rightCoord][y] == '#':\n",
        "                numNeighbors += 1 # Right neighbor is alive.\n",
        "            if currentCells[leftCoord][belowCoord] == '#':\n",
        "                numNeighbors += 1 # Bottom-left neighbor is alive.\n",
        "            if currentCells[x][belowCoord] == '#':\n",
        "                numNeighbors += 1 # Bottom neighbor is alive.\n",
        "            if currentCells[rightCoord][belowCoord] == '#':\n",
        "                numNeighbors += 1 # Bottom-right neighbor is alive.\n",
        "\n",
        "            # Set cell based on Conway's Game of Life rules:\n",
        "            if currentCells[x][y] == '#' and (numNeighbors == 2 or\n",
        "numNeighbors == 3):\n",
        "                # Living cells with 2 or 3 neighbors stay alive:\n",
        "                nextCells[x][y] = '#'\n",
        "            elif currentCells[x][y] == ' ' and numNeighbors == 3:\n",
        "                # Dead cells with 3 neighbors become alive:\n",
        "                nextCells[x][y] = '#'\n",
        "            else:\n",
        "                # Everything else dies or stays dead:\n",
        "                nextCells[x][y] = ' '\n",
        "    time.sleep(1) # Add a 1-second pause to reduce flickering."
      ],
      "execution_count": null,
      "outputs": []
    }
  ]
}